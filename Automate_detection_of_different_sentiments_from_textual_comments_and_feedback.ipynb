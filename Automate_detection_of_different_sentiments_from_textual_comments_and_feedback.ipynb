{
  "nbformat": 4,
  "nbformat_minor": 0,
  "metadata": {
    "colab": {
      "name": " Automate detection of different sentiments from textual comments and feedback",
      "provenance": [],
      "collapsed_sections": [],
      "authorship_tag": "ABX9TyPNKE1NvBxWAlnTDvSCSI/T",
      "include_colab_link": true
    },
    "kernelspec": {
      "name": "python3",
      "display_name": "Python 3"
    }
  },
  "cells": [
    {
      "cell_type": "markdown",
      "metadata": {
        "id": "view-in-github",
        "colab_type": "text"
      },
      "source": [
        "<a href=\"https://colab.research.google.com/github/ManavKaul/Automatic-Sentiment-Analysis/blob/main/Automate_detection_of_different_sentiments_from_textual_comments_and_feedback.ipynb\" target=\"_parent\"><img src=\"https://colab.research.google.com/assets/colab-badge.svg\" alt=\"Open In Colab\"/></a>"
      ]
    },
    {
      "cell_type": "markdown",
      "metadata": {
        "id": "7NtpYlFk2k1d"
      },
      "source": [
        "# **TCS iON Remote Internship**\n",
        "\n"
      ]
    },
    {
      "cell_type": "markdown",
      "metadata": {
        "id": "vcnVlg_x2vSa"
      },
      "source": [
        "**Importing relevant libraries**"
      ]
    },
    {
      "cell_type": "code",
      "metadata": {
        "id": "GFHxyxYrgl5b"
      },
      "source": [
        "from textblob import TextBlob\n",
        "import nltk\n",
        "import pandas as pd\n",
        "import urllib.request\n",
        "import matplotlib.pyplot as plt\n",
        "import warnings\n",
        "warnings.filterwarnings('ignore')"
      ],
      "execution_count": null,
      "outputs": []
    },
    {
      "cell_type": "markdown",
      "metadata": {
        "id": "yvHd8GC5tN0j"
      },
      "source": [
        "TextBlob Polarity when == 0 then it is Neutral Sentiment\n",
        "\n",
        "When it is negative then it is a Bad or Negative Sentiment\n",
        "\n",
        "When the polarity is positive then it is a good sentiment"
      ]
    },
    {
      "cell_type": "code",
      "metadata": {
        "id": "YjS9OBfGhby5"
      },
      "source": [
        "#Creating a function to determine the sentiment\n",
        "def emotion(polarity):\n",
        "    if blob.sentiment.polarity < 0:\n",
        "        return \"Negative Feedback\"\n",
        "    elif blob.sentiment.polarity >0:\n",
        "        return \"Positive Feedback\"\n",
        "    else:\n",
        "        return \"Neutral Feedback\""
      ],
      "execution_count": null,
      "outputs": []
    },
    {
      "cell_type": "markdown",
      "metadata": {
        "id": "9ZFB8JBe9a0X"
      },
      "source": [
        "Checking if the code runs on manually fed textual data"
      ]
    },
    {
      "cell_type": "code",
      "metadata": {
        "id": "42ZdLjoY6gGW",
        "colab": {
          "base_uri": "https://localhost:8080/"
        },
        "outputId": "3bb9daaf-c8ba-416a-9966-0977739310fd"
      },
      "source": [
        "blob = TextBlob(\"The service was ridiculous.\")\n",
        "emotion(blob.sentiment.polarity)"
      ],
      "execution_count": null,
      "outputs": [
        {
          "output_type": "stream",
          "text": [
            "Negative Feedback\n"
          ],
          "name": "stdout"
        }
      ]
    },
    {
      "cell_type": "code",
      "metadata": {
        "id": "qlQg66ZJ7dsR",
        "colab": {
          "base_uri": "https://localhost:8080/"
        },
        "outputId": "03f734d5-b906-4844-daaa-fd5d5de4eccb"
      },
      "source": [
        "blob = TextBlob(\"The service was ok\")\n",
        "emotion(blob.sentiment.polarity)"
      ],
      "execution_count": null,
      "outputs": [
        {
          "output_type": "stream",
          "text": [
            "Positive Feedback\n"
          ],
          "name": "stdout"
        }
      ]
    },
    {
      "cell_type": "code",
      "metadata": {
        "id": "WkQsmtlm7vij",
        "colab": {
          "base_uri": "https://localhost:8080/",
          "height": 35
        },
        "outputId": "1d543696-693d-450a-c5d8-d42cedc7d498"
      },
      "source": [
        "blob = TextBlob(\"The service was best\")\n",
        "emotion(blob.sentiment.polarity)"
      ],
      "execution_count": null,
      "outputs": [
        {
          "output_type": "execute_result",
          "data": {
            "application/vnd.google.colaboratory.intrinsic+json": {
              "type": "string"
            },
            "text/plain": [
              "'Positive Feedback'"
            ]
          },
          "metadata": {
            "tags": []
          },
          "execution_count": 33
        }
      ]
    },
    {
      "cell_type": "code",
      "metadata": {
        "id": "1GGkNV0w8DKW",
        "colab": {
          "base_uri": "https://localhost:8080/"
        },
        "outputId": "42feb33a-f7f0-4978-c5d6-0d8e8f4d182f"
      },
      "source": [
        "blob = TextBlob(\"The service was not alright. I hate it\")\n",
        "emotion(blob.sentiment.polarity)"
      ],
      "execution_count": null,
      "outputs": [
        {
          "output_type": "stream",
          "text": [
            "Negative Feedback\n"
          ],
          "name": "stdout"
        }
      ]
    },
    {
      "cell_type": "markdown",
      "metadata": {
        "id": "WbrRk8SVxvgW"
      },
      "source": [
        "**Testing the code on reviews from internet**"
      ]
    },
    {
      "cell_type": "code",
      "metadata": {
        "id": "lVtf_syFx5AC",
        "colab": {
          "base_uri": "https://localhost:8080/"
        },
        "outputId": "3ce1f393-4f7a-4eda-e773-6a11fe737ac3"
      },
      "source": [
        "#Website: https://www.gsmarena.com/apple_iphone_11-reviews-9848.php\n",
        "text1 = '''I bought an iPhone 11 5 days ago and I can say that everything on this phone like the performance, built and the screen is superb 10/10. \n",
        "I even barely notice that the screen is LCD unless you compare it side by side with an iPhone X or 12.'''\n",
        "blob= TextBlob(text1)\n",
        "emotion(blob.sentiment.polarity)"
      ],
      "execution_count": null,
      "outputs": [
        {
          "output_type": "stream",
          "text": [
            "Positive Feedback\n"
          ],
          "name": "stdout"
        }
      ]
    },
    {
      "cell_type": "code",
      "metadata": {
        "id": "sC4vw-Y0yeXU",
        "colab": {
          "base_uri": "https://localhost:8080/"
        },
        "outputId": "a059b842-563c-4f5d-d074-3d62798bea7c"
      },
      "source": [
        "#Website: https://www.gsmarena.com/apple_iphone_11-reviews-9848.php\n",
        "text2 = '''Why iphone take so much charge,when it on lock screen!\n",
        "And\n",
        "Android take 4-5% on whole night.\n",
        "Apple should work on that.\n",
        "I have been using iphone x and samsung j5(2016)\n",
        "Using internet with both device.\n",
        "iPhone is worse than android\n",
        "Hate it\n",
        "Samsung giving me breakup more than 6hour than iphone x.\n",
        "Why apple doesn't work on that?\n",
        "'''\n",
        "blob= TextBlob(text2)\n",
        "emotion(blob.sentiment.polarity)"
      ],
      "execution_count": null,
      "outputs": [
        {
          "output_type": "stream",
          "text": [
            "Negative Feedback\n"
          ],
          "name": "stdout"
        }
      ]
    },
    {
      "cell_type": "markdown",
      "metadata": {
        "id": "529glmjrQn9u"
      },
      "source": [
        "**Test Data taken from Kaggle**"
      ]
    },
    {
      "cell_type": "code",
      "metadata": {
        "id": "xM3vvGRJQ5ZC"
      },
      "source": [
        "test = pd.read_fwf('test.ft.txt', header = None)"
      ],
      "execution_count": null,
      "outputs": []
    },
    {
      "cell_type": "code",
      "metadata": {
        "colab": {
          "base_uri": "https://localhost:8080/"
        },
        "id": "vHyTHKpsYpmF",
        "outputId": "e566f382-68a7-4db0-c1b8-8f5a4104db81"
      },
      "source": [
        "test.shape"
      ],
      "execution_count": null,
      "outputs": [
        {
          "output_type": "execute_result",
          "data": {
            "text/plain": [
              "(400000, 2)"
            ]
          },
          "metadata": {
            "tags": []
          },
          "execution_count": 12
        }
      ]
    },
    {
      "cell_type": "markdown",
      "metadata": {
        "id": "e9lOz8TaY1mc"
      },
      "source": [
        "There are 400000 reviews in the test file"
      ]
    },
    {
      "cell_type": "code",
      "metadata": {
        "colab": {
          "base_uri": "https://localhost:8080/",
          "height": 197
        },
        "id": "czFsOra8Y5he",
        "outputId": "34abf969-b2ce-4f72-cc47-fd5bde372fc1"
      },
      "source": [
        "test.head()"
      ],
      "execution_count": null,
      "outputs": [
        {
          "output_type": "execute_result",
          "data": {
            "text/html": [
              "<div>\n",
              "<style scoped>\n",
              "    .dataframe tbody tr th:only-of-type {\n",
              "        vertical-align: middle;\n",
              "    }\n",
              "\n",
              "    .dataframe tbody tr th {\n",
              "        vertical-align: top;\n",
              "    }\n",
              "\n",
              "    .dataframe thead th {\n",
              "        text-align: right;\n",
              "    }\n",
              "</style>\n",
              "<table border=\"1\" class=\"dataframe\">\n",
              "  <thead>\n",
              "    <tr style=\"text-align: right;\">\n",
              "      <th></th>\n",
              "      <th>0</th>\n",
              "      <th>1</th>\n",
              "    </tr>\n",
              "  </thead>\n",
              "  <tbody>\n",
              "    <tr>\n",
              "      <th>0</th>\n",
              "      <td>__label__2</td>\n",
              "      <td>Great CD: My lovely Pat has one of the GREAT v...</td>\n",
              "    </tr>\n",
              "    <tr>\n",
              "      <th>1</th>\n",
              "      <td>__label__2</td>\n",
              "      <td>One of the best game music soundtracks - for a...</td>\n",
              "    </tr>\n",
              "    <tr>\n",
              "      <th>2</th>\n",
              "      <td>__label__1</td>\n",
              "      <td>Batteries died within a year ...: I bought thi...</td>\n",
              "    </tr>\n",
              "    <tr>\n",
              "      <th>3</th>\n",
              "      <td>__label__2</td>\n",
              "      <td>works fine, but Maha Energy is better: Check o...</td>\n",
              "    </tr>\n",
              "    <tr>\n",
              "      <th>4</th>\n",
              "      <td>__label__2</td>\n",
              "      <td>Great for the non-audiophile: Reviewed quite a...</td>\n",
              "    </tr>\n",
              "  </tbody>\n",
              "</table>\n",
              "</div>"
            ],
            "text/plain": [
              "            0                                                  1\n",
              "0  __label__2  Great CD: My lovely Pat has one of the GREAT v...\n",
              "1  __label__2  One of the best game music soundtracks - for a...\n",
              "2  __label__1  Batteries died within a year ...: I bought thi...\n",
              "3  __label__2  works fine, but Maha Energy is better: Check o...\n",
              "4  __label__2  Great for the non-audiophile: Reviewed quite a..."
            ]
          },
          "metadata": {
            "tags": []
          },
          "execution_count": 16
        }
      ]
    },
    {
      "cell_type": "code",
      "metadata": {
        "colab": {
          "base_uri": "https://localhost:8080/"
        },
        "id": "oDGk5e_NZFqQ",
        "outputId": "d142ee41-ed1c-4cc9-cc27-2f6c78f59ed1"
      },
      "source": [
        "test.describe"
      ],
      "execution_count": null,
      "outputs": [
        {
          "output_type": "execute_result",
          "data": {
            "text/plain": [
              "<bound method NDFrame.describe of                  0                                                  1\n",
              "0       __label__2  Great CD: My lovely Pat has one of the GREAT v...\n",
              "1       __label__2  One of the best game music soundtracks - for a...\n",
              "2       __label__1  Batteries died within a year ...: I bought thi...\n",
              "3       __label__2  works fine, but Maha Energy is better: Check o...\n",
              "4       __label__2  Great for the non-audiophile: Reviewed quite a...\n",
              "...            ...                                                ...\n",
              "399995  __label__1  Unbelievable- In a Bad Way: We bought this Tho...\n",
              "399996  __label__1  Almost Great, Until it Broke...: My son reciev...\n",
              "399997  __label__1  Disappointed !!!: I bought this toy for my son...\n",
              "399998  __label__2  Classic Jessica Mitford: This is a compilation...\n",
              "399999  __label__1  Comedy Scene, and Not Heard: This DVD will be ...\n",
              "\n",
              "[400000 rows x 2 columns]>"
            ]
          },
          "metadata": {
            "tags": []
          },
          "execution_count": 15
        }
      ]
    },
    {
      "cell_type": "code",
      "metadata": {
        "colab": {
          "base_uri": "https://localhost:8080/",
          "height": 71
        },
        "id": "YkRKH0dYZSpJ",
        "outputId": "be000a36-e2da-4917-b4b2-b338dbb20c73"
      },
      "source": [
        "#Checking a random review\n",
        "test[1][4]"
      ],
      "execution_count": null,
      "outputs": [
        {
          "output_type": "execute_result",
          "data": {
            "application/vnd.google.colaboratory.intrinsic+json": {
              "type": "string"
            },
            "text/plain": [
              "\"Great for the non-audiophile: Reviewed quite a bit of the combo players and was hesitant due to unfavorable reviews and size of machines. I am weaning off my VHS collection, but don't want to replace them with DVD's. This unit is well built, easy to setup and resolution and special effects (no progressive scan for HDTV owners) suitable for many people looking for a versatile product.Cons- No universal remote.\""
            ]
          },
          "metadata": {
            "tags": []
          },
          "execution_count": 25
        }
      ]
    },
    {
      "cell_type": "code",
      "metadata": {
        "colab": {
          "base_uri": "https://localhost:8080/"
        },
        "id": "hdbtBhEEdYET",
        "outputId": "e416865d-d2f9-4c6a-b934-7d1d21c80e50"
      },
      "source": [
        "positive_review=0\n",
        "negative_review=0\n",
        "neutral_review=0\n",
        "for i in range (400000):\n",
        "  blob = TextBlob(test[1][i])\n",
        "  if emotion(blob.sentiment.polarity)== 'Positive Feedback':\n",
        "    positive_review = positive_review + 1\n",
        "  elif emotion(blob.sentiment.polarity)== 'Negative Feedback':\n",
        "    negative_review = negative_review + 1\n",
        "  else:\n",
        "    neutral_review = neutral_review + 1\n",
        "print('Number of Postive Reviews = ', positive_review)\n",
        "print('Number of Negative Reviews = ', negative_review)\n",
        "print('Number of Neutral Reviews = ', neutral_review)"
      ],
      "execution_count": null,
      "outputs": [
        {
          "output_type": "stream",
          "text": [
            "Number of Postive Reviews =  302442\n",
            "Number of Negative Reviews =  91045\n",
            "Number of Neutral Reviews =  6513\n"
          ],
          "name": "stdout"
        }
      ]
    },
    {
      "cell_type": "code",
      "metadata": {
        "colab": {
          "base_uri": "https://localhost:8080/",
          "height": 247
        },
        "id": "brQmWsRUi-dh",
        "outputId": "2f080f15-d714-4061-f446-66cc6e0460cb"
      },
      "source": [
        "#Visualizing Reviews\n",
        "plt.pie([positive_review, negative_review, neutral_review], labels=['Positive Feeback','Negative Feedback','Neutral Feedback'],radius= 50)\n",
        "plt.axis('equal')\n",
        "plt.show()"
      ],
      "execution_count": null,
      "outputs": [
        {
          "output_type": "display_data",
          "data": {
            "image/png": "[encoded data removed]",
            "text/plain": [
              "<Figure size 432x288 with 1 Axes>"
            ]
          },
          "metadata": {
            "tags": []
          }
        }
      ]
    },
    {
      "cell_type": "markdown",
      "metadata": {
        "id": "JvWrjQdPahwp"
      },
      "source": [
        "We can conclude that most people liked the product. A few people were conservative against it but most people had a polar opinion regarding the product"
      ]
    }
  ]
}