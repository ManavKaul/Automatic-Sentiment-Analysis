{
  "nbformat": 4,
  "nbformat_minor": 0,
  "metadata": {
    "colab": {
      "name": " Automate detection of different sentiments from textual comments and feedback",
      "provenance": [],
      "authorship_tag": "ABX9TyPZS/zGia5h7X3oUOTIzyr7",
      "include_colab_link": true
    },
    "kernelspec": {
      "name": "python3",
      "display_name": "Python 3"
    }
  },
  "cells": [
    {
      "cell_type": "markdown",
      "metadata": {
        "id": "view-in-github",
        "colab_type": "text"
      },
      "source": [
        "<a href=\"https://colab.research.google.com/github/ManavKaul/Automatic-Sentiment-Analysis/blob/main/Automate_detection_of_different_sentiments_from_textual_comments_and_feedback.ipynb\" target=\"_parent\"><img src=\"https://colab.research.google.com/assets/colab-badge.svg\" alt=\"Open In Colab\"/></a>"
      ]
    },
    {
      "cell_type": "markdown",
      "metadata": {
        "id": "7NtpYlFk2k1d"
      },
      "source": [
        "# **TCS iON Remote Internship**\n",
        "\n"
      ]
    },
    {
      "cell_type": "markdown",
      "metadata": {
        "id": "vcnVlg_x2vSa"
      },
      "source": [
        "**Importing relevant libraries**"
      ]
    },
    {
      "cell_type": "code",
      "metadata": {
        "id": "GFHxyxYrgl5b"
      },
      "source": [
        "from textblob import TextBlob\n",
        "import nltk\n",
        "import pandas as pd\n",
        "import urllib.request\n",
        "import warnings\n",
        "warnings.filterwarnings('ignore')"
      ],
      "execution_count": 21,
      "outputs": []
    },
    {
      "cell_type": "markdown",
      "metadata": {
        "id": "yvHd8GC5tN0j"
      },
      "source": [
        "TextBlob Polarity when == 0 then it is Neutral Sentiment\n",
        "\n",
        "When it is negative then it is a Bad or Negative Sentiment\n",
        "\n",
        "When the polarity is positive then it is a good sentiment"
      ]
    },
    {
      "cell_type": "code",
      "metadata": {
        "id": "YjS9OBfGhby5"
      },
      "source": [
        "#Creating a function to determine the sentiment\n",
        "def emotion(polarity):\n",
        "    if blob.sentiment.polarity < 0:\n",
        "        print(\"Negative Feedback\")\n",
        "    elif blob.sentiment.polarity >0:\n",
        "        print(\"Positive Feedback\")\n",
        "    else:\n",
        "        print(\"Neutral Feedback\")"
      ],
      "execution_count": 22,
      "outputs": []
    },
    {
      "cell_type": "markdown",
      "metadata": {
        "id": "9ZFB8JBe9a0X"
      },
      "source": [
        "Checking if the code runs on manually fed textual data"
      ]
    },
    {
      "cell_type": "code",
      "metadata": {
        "id": "42ZdLjoY6gGW",
        "outputId": "5cc65f63-7d66-40d9-be24-b12b0ae29f5c",
        "colab": {
          "base_uri": "https://localhost:8080/"
        }
      },
      "source": [
        "blob = TextBlob(\"The service was ridiculous.\")\n",
        "emotion(blob.sentiment.polarity)"
      ],
      "execution_count": 23,
      "outputs": [
        {
          "output_type": "stream",
          "text": [
            "Negative Feedback\n"
          ],
          "name": "stdout"
        }
      ]
    },
    {
      "cell_type": "code",
      "metadata": {
        "id": "qlQg66ZJ7dsR",
        "outputId": "0d581dea-9ca1-44c3-c945-9edc4fe429a0",
        "colab": {
          "base_uri": "https://localhost:8080/"
        }
      },
      "source": [
        "blob = TextBlob(\"The service was ok\")\n",
        "emotion(blob.sentiment.polarity)"
      ],
      "execution_count": 24,
      "outputs": [
        {
          "output_type": "stream",
          "text": [
            "Positive Feedback\n"
          ],
          "name": "stdout"
        }
      ]
    },
    {
      "cell_type": "code",
      "metadata": {
        "id": "WkQsmtlm7vij",
        "outputId": "183e6214-3326-4fda-b198-7f057b70a68e",
        "colab": {
          "base_uri": "https://localhost:8080/"
        }
      },
      "source": [
        "blob = TextBlob(\"The service was best\")\n",
        "emotion(blob.sentiment.polarity)"
      ],
      "execution_count": 25,
      "outputs": [
        {
          "output_type": "stream",
          "text": [
            "Positive Feedback\n"
          ],
          "name": "stdout"
        }
      ]
    },
    {
      "cell_type": "code",
      "metadata": {
        "id": "1GGkNV0w8DKW",
        "outputId": "d99861c8-abbb-4da1-fea8-83b7faf6cf81",
        "colab": {
          "base_uri": "https://localhost:8080/"
        }
      },
      "source": [
        "blob = TextBlob(\"The service was not alright. I hate it\")\n",
        "emotion(blob.sentiment.polarity)"
      ],
      "execution_count": 26,
      "outputs": [
        {
          "output_type": "stream",
          "text": [
            "Negative Feedback\n"
          ],
          "name": "stdout"
        }
      ]
    },
    {
      "cell_type": "markdown",
      "metadata": {
        "id": "WbrRk8SVxvgW"
      },
      "source": [
        "**Testing the code on reviews from internet**"
      ]
    },
    {
      "cell_type": "code",
      "metadata": {
        "id": "lVtf_syFx5AC",
        "outputId": "43ee308c-679d-4805-fbaa-8a05826b1a7e",
        "colab": {
          "base_uri": "https://localhost:8080/"
        }
      },
      "source": [
        "#Website: https://www.gsmarena.com/apple_iphone_11-reviews-9848.php\n",
        "text1 = '''I bought an iPhone 11 5 days ago and I can say that everything on this phone like the performance, built and the screen is superb 10/10. \n",
        "I even barely notice that the screen is LCD unless you compare it side by side with an iPhone X or 12.'''\n",
        "blob= TextBlob(text1)\n",
        "emotion(blob.sentiment.polarity)"
      ],
      "execution_count": 27,
      "outputs": [
        {
          "output_type": "stream",
          "text": [
            "Positive Feedback\n"
          ],
          "name": "stdout"
        }
      ]
    },
    {
      "cell_type": "code",
      "metadata": {
        "id": "sC4vw-Y0yeXU",
        "outputId": "5a8d4964-a451-43aa-8290-56ceb758cd0c",
        "colab": {
          "base_uri": "https://localhost:8080/"
        }
      },
      "source": [
        "#Website: https://www.gsmarena.com/apple_iphone_11-reviews-9848.php\n",
        "text2 = '''Why iphone take so much charge,when it on lock screen!\n",
        "And\n",
        "Android take 4-5% on whole night.\n",
        "Apple should work on that.\n",
        "I have been using iphone x and samsung j5(2016)\n",
        "Using internet with both device.\n",
        "iPhone is worse than android\n",
        "Hate it\n",
        "Samsung giving me breakup more than 6hour than iphone x.\n",
        "Why apple doesn't work on that?\n",
        "'''\n",
        "blob= TextBlob(text2)\n",
        "emotion(blob.sentiment.polarity)"
      ],
      "execution_count": 30,
      "outputs": [
        {
          "output_type": "stream",
          "text": [
            "Negative Feedback\n"
          ],
          "name": "stdout"
        }
      ]
    }
  ]
}