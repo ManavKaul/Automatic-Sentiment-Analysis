{
  "nbformat": 4,
  "nbformat_minor": 0,
  "metadata": {
    "colab": {
      "name": " Automate detection of different sentiments from textual comments and feedback",
      "provenance": [],
      "authorship_tag": "ABX9TyN+1Lz12L8jKR/vahYBkCmx",
      "include_colab_link": true
    },
    "kernelspec": {
      "name": "python3",
      "display_name": "Python 3"
    }
  },
  "cells": [
    {
      "cell_type": "markdown",
      "metadata": {
        "id": "view-in-github",
        "colab_type": "text"
      },
      "source": [
        "<a href=\"https://colab.research.google.com/github/ManavKaul/Automatic-Sentiment-Analysis/blob/main/Automate_detection_of_different_sentiments_from_textual_comments_and_feedback.ipynb\" target=\"_parent\"><img src=\"https://colab.research.google.com/assets/colab-badge.svg\" alt=\"Open In Colab\"/></a>"
      ]
    },
    {
      "cell_type": "markdown",
      "metadata": {
        "id": "7NtpYlFk2k1d"
      },
      "source": [
        "# **TCS iON Remote Internship**\n",
        "\n"
      ]
    },
    {
      "cell_type": "markdown",
      "metadata": {
        "id": "vcnVlg_x2vSa"
      },
      "source": [
        "**Importing relevant libraries**"
      ]
    },
    {
      "cell_type": "code",
      "metadata": {
        "id": "GFHxyxYrgl5b"
      },
      "source": [
        "from textblob import TextBlob\n",
        "import nltk\n",
        "import pandas as pd\n",
        "import warnings\n",
        "warnings.filterwarnings('ignore')"
      ],
      "execution_count": 8,
      "outputs": []
    },
    {
      "cell_type": "code",
      "metadata": {
        "id": "YjS9OBfGhby5"
      },
      "source": [
        "#Creating a function to determine the sentiment\n",
        "def emotion(polarity):\n",
        "    if blob.sentiment.polarity < 0:\n",
        "        print(\"Negative Feedback\")\n",
        "    elif blob.sentiment.polarity >0:\n",
        "        print(\"Positive Feedback\")\n",
        "    else:\n",
        "        print(\"Neutral Feedback\")"
      ],
      "execution_count": 2,
      "outputs": []
    },
    {
      "cell_type": "code",
      "metadata": {
        "id": "42ZdLjoY6gGW",
        "outputId": "be9c155e-f985-4c9e-94b1-58eddebc20eb",
        "colab": {
          "base_uri": "https://localhost:8080/"
        }
      },
      "source": [
        "blob = TextBlob(\"The service was ridiculous.\")\n",
        "emotion(blob.sentiment.polarity)"
      ],
      "execution_count": 13,
      "outputs": [
        {
          "output_type": "stream",
          "text": [
            "Negative Feedback\n"
          ],
          "name": "stdout"
        }
      ]
    },
    {
      "cell_type": "code",
      "metadata": {
        "id": "qlQg66ZJ7dsR",
        "outputId": "d0851d31-24cf-42a0-898f-0ab0ec1379a3",
        "colab": {
          "base_uri": "https://localhost:8080/"
        }
      },
      "source": [
        "blob = TextBlob(\"The service was ok\")\n",
        "emotion(blob.sentiment.polarity)"
      ],
      "execution_count": 11,
      "outputs": [
        {
          "output_type": "stream",
          "text": [
            "Positive Feedback\n"
          ],
          "name": "stdout"
        }
      ]
    },
    {
      "cell_type": "code",
      "metadata": {
        "id": "WkQsmtlm7vij",
        "outputId": "fedf8fbe-cd07-4116-b135-6bbe89edcde4",
        "colab": {
          "base_uri": "https://localhost:8080/"
        }
      },
      "source": [
        "blob = TextBlob(\"The service was best\")\n",
        "emotion(blob.sentiment.polarity)"
      ],
      "execution_count": 10,
      "outputs": [
        {
          "output_type": "stream",
          "text": [
            "Positive Feedback\n"
          ],
          "name": "stdout"
        }
      ]
    },
    {
      "cell_type": "code",
      "metadata": {
        "id": "1GGkNV0w8DKW",
        "outputId": "29a8f1c2-42c3-49f9-a498-1a6f154039d8",
        "colab": {
          "base_uri": "https://localhost:8080/"
        }
      },
      "source": [
        "blob = TextBlob(\"The service was not alright. I hate it\")\n",
        "emotion(blob.sentiment.polarity)"
      ],
      "execution_count": 18,
      "outputs": [
        {
          "output_type": "stream",
          "text": [
            "Negative Feedback\n"
          ],
          "name": "stdout"
        }
      ]
    }
  ]
}